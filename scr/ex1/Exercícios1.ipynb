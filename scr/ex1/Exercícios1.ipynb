{
 "cells": [
  {
   "cell_type": "markdown",
   "metadata": {
    "id": "ertrrfMiI6zZ"
   },
   "source": [
    "# Lista de exercícios 1"
   ]
  },
  {
   "attachments": {},
   "cell_type": "markdown",
   "metadata": {
    "id": "oy25LxJsKIZ9"
   },
   "source": [
    "**Nome:** Pedro Henrique Samuel Ferreira Galvão\n",
    "\n",
    "**Matrícula:** 2020003157"
   ]
  },
  {
   "attachments": {},
   "cell_type": "markdown",
   "metadata": {},
   "source": [
    "### Configurações Iniciais\n",
    "> Por favor, execute a célula abaixo antes de tudo"
   ]
  },
  {
   "cell_type": "code",
   "execution_count": 1,
   "metadata": {},
   "outputs": [],
   "source": [
    "# Kernel usado: Python 3.10.6\n",
    "# Jupyter: IPython 8.11.0\n",
    "\n",
    "import numpy as np\n",
    "from numpy import array, arange, dot, resize, where, ndarray\n"
   ]
  },
  {
   "cell_type": "markdown",
   "metadata": {
    "id": "8iOC_14EJHQ_"
   },
   "source": [
    "### Questão 1."
   ]
  },
  {
   "cell_type": "code",
   "execution_count": 13,
   "metadata": {
    "id": "hT5pqLblJzv6"
   },
   "outputs": [],
   "source": [
    "def euler() -> np.float128:\n",
    "    n = np.float128(1.500100005*10**10)\n",
    "    one = np.float128(1)\n",
    "    return (one+one/n)**n\n"
   ]
  },
  {
   "cell_type": "code",
   "execution_count": 27,
   "metadata": {},
   "outputs": [
    {
     "data": {
      "text/plain": [
       "'Margem de erro: -1.0220521325841432e-10'"
      ]
     },
     "execution_count": 27,
     "metadata": {},
     "output_type": "execute_result"
    }
   ],
   "source": [
    "E = np.float128(np.e)\n",
    "f\"Margem de erro: {(euler() - E)/E}\"\n"
   ]
  },
  {
   "cell_type": "markdown",
   "metadata": {
    "id": "WZtNw_f7JPIr"
   },
   "source": [
    "### Questão 2."
   ]
  },
  {
   "cell_type": "code",
   "execution_count": 4,
   "metadata": {
    "id": "dnGwyZVKJ0oE"
   },
   "outputs": [],
   "source": [
    "def derivada(P: ndarray) -> ndarray:\n",
    "    if len(P.shape) != 1:\n",
    "        raise Exception(\"P deve ser unidimensional.\")\n",
    "\n",
    "    dP = P * arange(P.size-1, -1, -1)\n",
    "\n",
    "    dP = resize(dP, P.size-1)\n",
    "\n",
    "    return dP\n"
   ]
  },
  {
   "cell_type": "markdown",
   "metadata": {
    "id": "kPiBds_GJPng"
   },
   "source": [
    "### Questão 3."
   ]
  },
  {
   "cell_type": "code",
   "execution_count": 3,
   "metadata": {},
   "outputs": [],
   "source": [
    "x = array([0.5, 8.0, 19.0, 26.0, 15.0, 4.0])\n",
    "y = array([0.5, 4.0, 11.0, 25.0, 27.0, 9.0])\n",
    "poly = array([[0.5, 0.5], [8.0, 4.0],\n",
    "             [19.0, 11.0], [26.0, 25.0],\n",
    "             [15.0, 27.0], [4.0, 9.0]])\n"
   ]
  },
  {
   "cell_type": "code",
   "execution_count": 2,
   "metadata": {},
   "outputs": [],
   "source": [
    "# Se não quiser ver como cheguei na solução pula para a próxima célula\n",
    "\n",
    "def _polygon_area(polygon: ndarray):\n",
    "\n",
    "    p = np.vstack((polygon, polygon[0, :]))  # Repetindo a 1ª linha\n",
    "\n",
    "    \"\"\" Na primeira vez, vi pensei em sum(a*b)\n",
    "    Mas ao ver que sum(a*b) == dot(a, b), fui ver qual era o mais eficiente\n",
    "    %timeit sum(a*b) -> 1.85 µs ± 149 ns per loop (mean ± std. dev. of 7 runs, 100,000 loops each)\n",
    "    %timeit np.dot(a,b) -> 1.36 µs ± 7.86 ns per loop (mean ± std. dev. of 7 runs, 1,000,000 loops each)\n",
    "    Conclusão: dot é mais eficiente.\n",
    "    Observação: Ao rodar com matrizes maiores, vi que o dot permace com tempo quase constante, com diferenças de nanômentros\n",
    "    \"\"\"\n",
    "\n",
    "    # s_1 = dot(p[:-1, 0], p[1:, 1])  # x1*y2 + x2*y3 + ... + xn*y1\n",
    "    # s_2 = dot(p[:-1, 1], p[1:, 0])  # x2*y1 + x3*y2 + ... + x1*y(n-1)\n",
    "\n",
    "    # s = (s_1 - s_2) / 2  # \"\"\"Área\"\"\"\n",
    "\n",
    "    s = (dot(p[:-1, 0], p[1:, 1]) - dot(p[:-1, 1], p[1:, 0])) / 2\n",
    "\n",
    "    return s * (-1) ** (s < 0)  # Valor absoluto\n",
    "\n",
    "\n",
    "\"\"\" 1ª Opção de Implementação que tentei, a de é mais legível\n",
    "def poly_sum(polygon: ndarray):\n",
    "\n",
    "    np.vstack((polygon, polygon[0, :]))\n",
    "\n",
    "    # a)\n",
    "    S_1 = 0\n",
    "    for i in range(polygon.shape[0]-1):\n",
    "        S_1 += polygon[i, 0] * polygon[i+1, 1]\n",
    "\n",
    "    # b)\n",
    "    S_2 = 0\n",
    "    for i in range(polygon.shape[0]-1):\n",
    "        S_2 += polygon[i, 1] * polygon[i+1, 0]\n",
    "\n",
    "    S = (S_1-S_2)/2\n",
    "    S = S * (-1) ** (S < 0)\n",
    "\n",
    "    return S\n",
    "\"\"\"\n",
    "\n",
    "pass\n"
   ]
  },
  {
   "cell_type": "code",
   "execution_count": 4,
   "metadata": {
    "id": "UzxZgNDrJ1du"
   },
   "outputs": [],
   "source": [
    "# Aí eu me toquei que era pra usar dois arranjos\n",
    "\n",
    "def polygon_area(x: ndarray, y: ndarray):\n",
    "    x = np.r_[x, [x[0]]]\n",
    "    y = np.r_[y, [y[0]]]\n",
    "\n",
    "    s = (dot(x[:-1], y[1:]) - dot(x[1:], y[:-1])) / 2\n",
    "\n",
    "    return s * (-1) ** (s < 0)\n"
   ]
  },
  {
   "cell_type": "code",
   "execution_count": 6,
   "metadata": {},
   "outputs": [],
   "source": [
    "# %timeit _polygon_area(poly)\n",
    "# %timeit polygon_area(x, y)\n"
   ]
  },
  {
   "attachments": {},
   "cell_type": "markdown",
   "metadata": {},
   "source": [
    "Aparentemente, por lidar com a realocação de um único array, mesmo que por um erro, trabalhar com apenas um array representando o polígono do que com um para o x e outro para o y."
   ]
  },
  {
   "cell_type": "markdown",
   "metadata": {
    "id": "rDhyXaroJPwk"
   },
   "source": [
    "### Questão 4."
   ]
  },
  {
   "cell_type": "code",
   "execution_count": 10,
   "metadata": {
    "id": "J0alvZVsJ3aE"
   },
   "outputs": [],
   "source": [
    "def zeroouum(x: ndarray):\n",
    "    if len(x.shape) != 1:\n",
    "        raise ValueError(\"x must be one-dimensional\")\n",
    "    nonzeros = x.nonzero()[0].size\n",
    "    if nonzeros == x.size - 1:\n",
    "        return True, int(where(x == 0)[0])\n",
    "    if nonzeros == 1:\n",
    "        return True, int(where(x == 1)[0])\n",
    "    return False, None\n"
   ]
  },
  {
   "cell_type": "markdown",
   "metadata": {
    "id": "l-ZHa3MFJQK0"
   },
   "source": [
    "### Questão 5."
   ]
  },
  {
   "cell_type": "code",
   "execution_count": 11,
   "metadata": {
    "id": "12avRM6dJ4fD"
   },
   "outputs": [],
   "source": [
    "def fib_mat(n: int):\n",
    "    if n < 0:\n",
    "        raise ValueError(\"n must be non-negative\")\n",
    "    if n == 0:\n",
    "        return 0\n",
    "    if n > 93:\n",
    "        raise ValueError(\"max calculable value is F_92\")\n",
    "\n",
    "    t3mat = array([[1, 1], [1, 0]], dtype=np.uint64)  # Matriz triagular superior (top tree matrix)\n",
    "    f_mat = array([[1], [0]], dtype=np.uint64)\n",
    "\n",
    "    for _ in range(1, n):\n",
    "        f_mat = dot(t3mat, f_mat)\n",
    "\n",
    "    return int(f_mat[0])\n"
   ]
  }
 ],
 "metadata": {
  "colab": {
   "collapsed_sections": [],
   "name": "Exercicios1.ipynb",
   "provenance": []
  },
  "kernelspec": {
   "display_name": "Python 3",
   "language": "python",
   "name": "python3"
  },
  "language_info": {
   "codemirror_mode": {
    "name": "ipython",
    "version": 3
   },
   "file_extension": ".py",
   "mimetype": "text/x-python",
   "name": "python",
   "nbconvert_exporter": "python",
   "pygments_lexer": "ipython3",
   "version": "3.10.6"
  },
  "vscode": {
   "interpreter": {
    "hash": "916dbcbb3f70747c44a77c7bcd40155683ae19c65e1c03b4aa3499c5328201f1"
   }
  }
 },
 "nbformat": 4,
 "nbformat_minor": 1
}
