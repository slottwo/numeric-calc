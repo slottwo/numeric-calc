{
 "cells": [
  {
   "cell_type": "markdown",
   "metadata": {
    "id": "ertrrfMiI6zZ"
   },
   "source": [
    "# Lista de exercícios 1"
   ]
  },
  {
   "attachments": {},
   "cell_type": "markdown",
   "metadata": {
    "id": "oy25LxJsKIZ9"
   },
   "source": [
    "**Nome:** Pedro Henrique Samuel Ferreira Galvão\n",
    "\n",
    "**Matrícula:** 2020003157"
   ]
  },
  {
   "attachments": {},
   "cell_type": "markdown",
   "metadata": {},
   "source": [
    "### Configurações Iniciais\n",
    "> Por favor, execute a célula abaixo antes de tudo"
   ]
  },
  {
   "cell_type": "code",
   "execution_count": 2,
   "metadata": {},
   "outputs": [],
   "source": [
    "# Kernel usado: Python 3.10.6\n",
    "# Jupyter: IPython 8.11.0\n",
    "\n",
    "import numpy as np\n",
    "from numpy import array, arange, dot, resize, where, ndarray\n"
   ]
  },
  {
   "cell_type": "markdown",
   "metadata": {
    "id": "8iOC_14EJHQ_"
   },
   "source": [
    "### Questão 1."
   ]
  },
  {
   "cell_type": "code",
   "execution_count": 59,
   "metadata": {
    "id": "hT5pqLblJzv6"
   },
   "outputs": [
    {
     "data": {
      "text/plain": [
       "2.7182818284590452352"
      ]
     },
     "execution_count": 59,
     "metadata": {},
     "output_type": "execute_result"
    }
   ],
   "source": [
    "def euler() -> np.longdouble:\n",
    "    n = np.longdouble(2**63)  # 2**52\n",
    "    return (1+1/n)**n\n",
    "\n",
    "\n",
    "euler()\n"
   ]
  },
  {
   "cell_type": "markdown",
   "metadata": {
    "id": "WZtNw_f7JPIr"
   },
   "source": [
    "### Questão 2."
   ]
  },
  {
   "cell_type": "code",
   "execution_count": 5,
   "metadata": {
    "id": "dnGwyZVKJ0oE"
   },
   "outputs": [],
   "source": [
    "def derivada(P: ndarray) -> ndarray:\n",
    "    if len(P.shape) != 1:\n",
    "        raise Exception(\"P deve ser unidimensional.\")\n",
    "\n",
    "    dP = P * arange(P.size-1, -1, -1)\n",
    "\n",
    "    dP = resize(dP, P.size-1)\n",
    "\n",
    "    return dP\n"
   ]
  },
  {
   "cell_type": "markdown",
   "metadata": {
    "id": "kPiBds_GJPng"
   },
   "source": [
    "### Questão 3."
   ]
  },
  {
   "cell_type": "code",
   "execution_count": 3,
   "metadata": {},
   "outputs": [
    {
     "data": {
      "text/plain": [
       "(275.25, 275.25)"
      ]
     },
     "execution_count": 3,
     "metadata": {},
     "output_type": "execute_result"
    }
   ],
   "source": [
    "from typing import Iterable\n",
    "\n",
    "\n",
    "def polygon_area(polygon: ndarray | Iterable[ndarray]) -> int:\n",
    "    if type(polygon) == ndarray:\n",
    "        p = np.vstack((polygon, polygon[0, :]))\n",
    "        s = dot(p[:-1, 0], p[1:, 1]) - dot(p[:-1, 1], p[1:, 0])\n",
    "        return abs(s/2)\n",
    "    try:\n",
    "        x, y = polygon\n",
    "        x, y = np.r_[x, [x[0]]], np.r_[y, [y[0]]]\n",
    "        s = dot(x[:-1], y[1:]) - dot(x[1:], y[:-1])\n",
    "        return abs(s/2)\n",
    "    except:\n",
    "        raise TypeError(polygon, 'not is array or iter of ndarray')\n",
    "\n",
    "\n",
    "x = array([0.5, 8.0, 19.0, 26.0, 15.0, 4.0])\n",
    "y = array([0.5, 4.0, 11.0, 25.0, 27.0, 9.0])\n",
    "poly = array([[0.5, 0.5], [8.0, 4.0],\n",
    "             [19.0, 11.0], [26.0, 25.0],\n",
    "             [15.0, 27.0], [4.0, 9.0]])\n",
    "\n",
    "polygon_area(poly), polygon_area((x, y))\n"
   ]
  },
  {
   "attachments": {},
   "cell_type": "markdown",
   "metadata": {},
   "source": [
    "Aparentemente, por lidar com a realocação de um único array, mesmo que por um erro, trabalhar com apenas um array representando o polígono do que com um para o x e outro para o y."
   ]
  },
  {
   "cell_type": "markdown",
   "metadata": {
    "id": "rDhyXaroJPwk"
   },
   "source": [
    "### Questão 4."
   ]
  },
  {
   "cell_type": "code",
   "execution_count": 8,
   "metadata": {
    "id": "J0alvZVsJ3aE"
   },
   "outputs": [],
   "source": [
    "def zeroouum(x: ndarray):\n",
    "    if len(x.shape) != 1:\n",
    "        raise ValueError(\"x must be one-dimensional\")\n",
    "    nonzeros = x.nonzero()[0].size\n",
    "    if nonzeros == x.size - 1:\n",
    "        return True, int(where(x == 0)[0])\n",
    "    if nonzeros == 1:\n",
    "        return True, int(where(x == 1)[0])\n",
    "    return False, None\n"
   ]
  },
  {
   "cell_type": "markdown",
   "metadata": {
    "id": "l-ZHa3MFJQK0"
   },
   "source": [
    "### Questão 5."
   ]
  },
  {
   "cell_type": "code",
   "execution_count": 9,
   "metadata": {
    "id": "12avRM6dJ4fD"
   },
   "outputs": [],
   "source": [
    "def fib_mat(n: int):\n",
    "    if n < 0:\n",
    "        raise ValueError(\"n must be non-negative\")\n",
    "    if n == 0:\n",
    "        return 0\n",
    "    if n > 93:\n",
    "        raise ValueError(\"max calculable value is F_92\")\n",
    "\n",
    "    t3mat = array([[1, 1], [1, 0]], dtype=np.uint64)  # Matriz triagular superior (top tree matrix)\n",
    "    f_mat = array([[1], [0]], dtype=np.uint64)\n",
    "\n",
    "    for _ in range(1, n):\n",
    "        f_mat = dot(t3mat, f_mat)\n",
    "\n",
    "    return int(f_mat[0])\n"
   ]
  }
 ],
 "metadata": {
  "colab": {
   "collapsed_sections": [],
   "name": "Exercicios1.ipynb",
   "provenance": []
  },
  "kernelspec": {
   "display_name": "Python 3",
   "language": "python",
   "name": "python3"
  },
  "language_info": {
   "codemirror_mode": {
    "name": "ipython",
    "version": 3
   },
   "file_extension": ".py",
   "mimetype": "text/x-python",
   "name": "python",
   "nbconvert_exporter": "python",
   "pygments_lexer": "ipython3",
   "version": "3.10.6"
  },
  "vscode": {
   "interpreter": {
    "hash": "916dbcbb3f70747c44a77c7bcd40155683ae19c65e1c03b4aa3499c5328201f1"
   }
  }
 },
 "nbformat": 4,
 "nbformat_minor": 1
}
